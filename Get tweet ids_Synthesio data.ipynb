{
 "cells": [
  {
   "cell_type": "markdown",
   "metadata": {},
   "source": [
    "## Extract Tweet ids from Tweet urls in Synthesio dataset\n",
    "### Zening (Ze) Duan\n",
    "### 09/20 2020"
   ]
  },
  {
   "cell_type": "code",
   "execution_count": 1,
   "metadata": {},
   "outputs": [],
   "source": [
    "import pandas as pd\n",
    "import numpy as np\n",
    "import time\n",
    "import os"
   ]
  },
  {
   "cell_type": "code",
   "execution_count": 2,
   "metadata": {},
   "outputs": [],
   "source": [
    "def count(str): \n",
    "    n = str.count('/') #check string structure\n",
    "    return n"
   ]
  },
  {
   "cell_type": "code",
   "execution_count": 3,
   "metadata": {},
   "outputs": [],
   "source": [
    "def cuttweetid(str):\n",
    "    ID = str.split(\"#\")[0].split(\"/\")[5] #These url strings share similar feactures: has one #, and five /\n",
    "    return ID"
   ]
  },
  {
   "cell_type": "code",
   "execution_count": 4,
   "metadata": {},
   "outputs": [],
   "source": [
    "def getid(dataframe):\n",
    "    IDs = []\n",
    "    for i in dataframe[\"Mention URL\"]:\n",
    "        try:\n",
    "            if i != 'Deleted or protected mention':\n",
    "                IDs.append(cuttweetid(i))\n",
    "            else:\n",
    "                IDs.append('Deleted or protected mention')\n",
    "        except Exception as e:\n",
    "            IDs.append('Error')\n",
    "            print(e)\n",
    "    \n",
    "    return IDs"
   ]
  },
  {
   "cell_type": "code",
   "execution_count": 8,
   "metadata": {},
   "outputs": [],
   "source": [
    "#'Error' in IDs"
   ]
  },
  {
   "cell_type": "code",
   "execution_count": 20,
   "metadata": {},
   "outputs": [
    {
     "name": "stdout",
     "output_type": "stream",
     "text": [
      "Length is consitent:  True\n",
      "No Error occurs:  True\n",
      "Now is  Mon Feb  8 00:23:09 2021 , we spent  0.93  s for the last processing task.\n",
      "Length is consitent:  True\n",
      "No Error occurs:  True\n",
      "Now is  Mon Feb  8 00:23:10 2021 , we spent  0.95  s for the last processing task.\n",
      "Length is consitent:  True\n",
      "No Error occurs:  True\n",
      "Now is  Mon Feb  8 00:23:11 2021 , we spent  0.88  s for the last processing task.\n",
      "Length is consitent:  True\n",
      "No Error occurs:  True\n",
      "Now is  Mon Feb  8 00:23:11 2021 , we spent  0.88  s for the last processing task.\n",
      "Length is consitent:  True\n",
      "No Error occurs:  True\n",
      "Now is  Mon Feb  8 00:23:12 2021 , we spent  0.87  s for the last processing task.\n",
      "Length is consitent:  True\n",
      "No Error occurs:  True\n",
      "Now is  Mon Feb  8 00:23:13 2021 , we spent  0.89  s for the last processing task.\n",
      "Length is consitent:  True\n",
      "No Error occurs:  True\n",
      "Now is  Mon Feb  8 00:23:14 2021 , we spent  0.85  s for the last processing task.\n",
      "Length is consitent:  True\n",
      "No Error occurs:  True\n",
      "Now is  Mon Feb  8 00:23:15 2021 , we spent  0.85  s for the last processing task.\n",
      "Length is consitent:  True\n",
      "No Error occurs:  True\n",
      "Now is  Mon Feb  8 00:23:16 2021 , we spent  0.84  s for the last processing task.\n",
      "Length is consitent:  True\n",
      "No Error occurs:  True\n",
      "Now is  Mon Feb  8 00:23:17 2021 , we spent  0.88  s for the last processing task.\n",
      "Length is consitent:  True\n",
      "No Error occurs:  True\n",
      "Now is  Mon Feb  8 00:23:17 2021 , we spent  0.85  s for the last processing task.\n",
      "Length is consitent:  True\n",
      "No Error occurs:  True\n",
      "Now is  Mon Feb  8 00:23:18 2021 , we spent  0.84  s for the last processing task.\n",
      "Length is consitent:  True\n",
      "No Error occurs:  True\n",
      "Now is  Mon Feb  8 00:23:19 2021 , we spent  0.88  s for the last processing task.\n",
      "Length is consitent:  True\n",
      "No Error occurs:  True\n",
      "Now is  Mon Feb  8 00:23:20 2021 , we spent  0.86  s for the last processing task.\n",
      "Length is consitent:  True\n",
      "No Error occurs:  True\n",
      "Now is  Mon Feb  8 00:23:21 2021 , we spent  0.84  s for the last processing task.\n",
      "Length is consitent:  True\n",
      "No Error occurs:  True\n",
      "Now is  Mon Feb  8 00:23:22 2021 , we spent  0.83  s for the last processing task.\n",
      "Length is consitent:  True\n",
      "No Error occurs:  True\n",
      "Now is  Mon Feb  8 00:23:23 2021 , we spent  0.81  s for the last processing task.\n",
      "Length is consitent:  True\n",
      "No Error occurs:  True\n",
      "Now is  Mon Feb  8 00:23:23 2021 , we spent  0.83  s for the last processing task.\n",
      "Length is consitent:  True\n",
      "No Error occurs:  True\n",
      "Now is  Mon Feb  8 00:23:24 2021 , we spent  0.87  s for the last processing task.\n",
      "Length is consitent:  True\n",
      "No Error occurs:  True\n",
      "Now is  Mon Feb  8 00:23:25 2021 , we spent  0.88  s for the last processing task.\n",
      "Length is consitent:  True\n",
      "No Error occurs:  True\n",
      "Now is  Mon Feb  8 00:23:26 2021 , we spent  0.86  s for the last processing task.\n",
      "Length is consitent:  True\n",
      "No Error occurs:  True\n",
      "Now is  Mon Feb  8 00:23:27 2021 , we spent  0.86  s for the last processing task.\n",
      "Length is consitent:  True\n",
      "No Error occurs:  True\n",
      "Now is  Mon Feb  8 00:23:28 2021 , we spent  0.86  s for the last processing task.\n",
      "Length is consitent:  True\n",
      "No Error occurs:  True\n",
      "Now is  Mon Feb  8 00:23:29 2021 , we spent  0.85  s for the last processing task.\n"
     ]
    }
   ],
   "source": [
    "newfilename_list = []\n",
    "path = '/Users/ze/Desktop/July 14/'\n",
    "id_path = '/Volumes/T7/covid datasets/Synthesio_covid_English_Global_June 13 to July 14/Tweet IDs/July/July 14/'\n",
    "for root, dirs, files in os.walk(path):\n",
    "    for filename in files:\n",
    "        if \"export\" in filename:\n",
    "            tic = time.time()\n",
    "            data = pd.read_csv(path + filename, encoding ='latin-1')\n",
    "            results = getid(data)\n",
    "         \n",
    "            newfilename = filename.replace('export_mentions','tweetids')[:-4]\n",
    "            newfilename_list.append(newfilename)\n",
    "            \n",
    "            \n",
    "            with open(id_path + newfilename + \".txt\", \"w\") as output:\n",
    "                output.write(str(results) + '\\n')\n",
    "            \n",
    "            print(\"Length is consitent: \", len(results) == len(data))\n",
    "            print(\"No Error occurs: \", 'Error' not in results) #check if there is an error\n",
    "            toc = time.time()\n",
    "            print(\"Now is \", time.ctime(toc), \", we spent \", round(toc - tic, 2),  \" s for the last processing task.\")\n",
    "            "
   ]
  },
  {
   "cell_type": "code",
   "execution_count": null,
   "metadata": {},
   "outputs": [],
   "source": []
  }
 ],
 "metadata": {
  "kernelspec": {
   "display_name": "Python 3",
   "language": "python",
   "name": "python3"
  },
  "language_info": {
   "codemirror_mode": {
    "name": "ipython",
    "version": 3
   },
   "file_extension": ".py",
   "mimetype": "text/x-python",
   "name": "python",
   "nbconvert_exporter": "python",
   "pygments_lexer": "ipython3",
   "version": "3.7.6"
  }
 },
 "nbformat": 4,
 "nbformat_minor": 4
}
